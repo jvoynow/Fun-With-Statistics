{
 "cells": [
  {
   "cell_type": "code",
   "execution_count": 1,
   "metadata": {},
   "outputs": [],
   "source": [
    "from scipy.stats import *\n",
    "from math import factorial\n",
    "\n",
    "import matplotlib.pyplot as plt\n",
    "import numpy as np\n",
    "import random"
   ]
  },
  {
   "cell_type": "code",
   "execution_count": 59,
   "metadata": {},
   "outputs": [],
   "source": [
    "def discrete_distribution_analysis(distrb_name, scipy, custom):\n",
    "    \"\"\"\n",
    "    Given input of distribution name, known distribution, and custom distribution:\n",
    "    the acossiated bincounts and distribution graphs are displayed\n",
    "    \"\"\"\n",
    "    unique_length = len(set(scipy))\n",
    "\n",
    "    print(\"Scipy's\", distrb_name, \"rv output frequency: \", np.bincount(scipy))\n",
    "    print(\"Custom\", distrb_name, \"rv output frequency:  \", np.bincount(custom))\n",
    "\n",
    "    plt.subplot(2, 2, 1)\n",
    "    plt.hist(scipy, bins = unique_length)\n",
    "    plt.title(\"Scipy \" + distrb_name)\n",
    "    plt.xticks(np.arange(unique_length))\n",
    "    plt.show()\n",
    "\n",
    "    plt.subplot(2, 2, 2)\n",
    "    plt.hist(custom, bins = unique_length)\n",
    "    plt.title(\"Custom \" + distrb_name)\n",
    "    plt.xticks(np.arange(unique_length))\n",
    "    plt.show()"
   ]
  },
  {
   "cell_type": "code",
   "execution_count": 90,
   "metadata": {},
   "outputs": [],
   "source": [
    "def continuous_distribution_analysis(distrb_name, scipy, custom):\n",
    "    \"\"\"\n",
    "    Given input of distribution name, known distribution, and custom distribution:\n",
    "    the acossiated statistics and distribution graphs are displayed\n",
    "    \"\"\"\n",
    "    unique_length = len(set(scipy))\n",
    "\n",
    "    print(\"Scipy's\", distrb_name, \"rv mean:\", format(np.mean(scipy), '.3f'))\n",
    "    print(\"Custom\", distrb_name, \"rv mean:\", format(np.mean(custom), '.3f'))\n",
    "    print(\"Scipy's\", distrb_name, \"rv stdev:\", format(np.std(scipy), '.3f'))\n",
    "    print(\"Custom\", distrb_name, \"rv stdev:\", format(np.std(custom), '.3f'))\n",
    "\n",
    "    plt.subplot(2, 2, 1)\n",
    "    plt.hist(scipy, bins = 10)\n",
    "    plt.title(\"Scipy \" + distrb_name)\n",
    "    plt.show()\n",
    "\n",
    "    plt.subplot(2, 2, 2)\n",
    "    plt.hist(custom, bins = 10)\n",
    "    plt.title(\"Custom \" + distrb_name)\n",
    "    plt.show()"
   ]
  },
  {
   "cell_type": "markdown",
   "metadata": {},
   "source": [
    "## The Binomial Distribution\n",
    "We can describe this distribution as: performing n <strong>independent</strong> bernoulli trials with a probability p of success<br>\n",
    "Math and Code inspired by https://docs.scipy.org/doc/scipy/reference/generated/scipy.stats.binom.html"
   ]
  },
  {
   "cell_type": "code",
   "execution_count": 61,
   "metadata": {},
   "outputs": [],
   "source": [
    "def binomial(n, p):\n",
    "    return bernoulli.rvs(size=n, p=p)"
   ]
  },
  {
   "cell_type": "code",
   "execution_count": 62,
   "metadata": {},
   "outputs": [],
   "source": [
    "def custom_binomial(n, p):\n",
    "    \"\"\"\n",
    "    n = number of samples\n",
    "    p = probability of \"success\"\n",
    "    \"\"\"\n",
    "    \n",
    "    data = np.zeros(n)\n",
    "    for i in range(n):\n",
    "        continuous_value = random.random()\n",
    "        if continuous_value > p:\n",
    "            data[i] = 0\n",
    "        else:\n",
    "            data[i] = 1\n",
    "    \n",
    "    return data.astype('int64')"
   ]
  },
  {
   "cell_type": "code",
   "execution_count": 63,
   "metadata": {},
   "outputs": [
    {
     "name": "stdout",
     "output_type": "stream",
     "text": [
      "Scipy's binomial rv output frequency:  [7515 2485]\n",
      "Custom binomial rv output frequency:   [7487 2513]\n"
     ]
    },
    {
     "data": {
      "image/png": "[encoded data removed]",
      "text/plain": [
       "<Figure size 432x288 with 1 Axes>"
      ]
     },
     "metadata": {
      "needs_background": "light"
     },
     "output_type": "display_data"
    },
    {
     "data": {
      "image/png": "[encoded data removed]",
      "text/plain": [
       "<Figure size 432x288 with 1 Axes>"
      ]
     },
     "metadata": {
      "needs_background": "light"
     },
     "output_type": "display_data"
    }
   ],
   "source": [
    "discrete_distribution_analysis(\"binomial\", binomial(10_000, 0.25), custom_binomial(10_000, 0.25))"
   ]
  },
  {
   "cell_type": "markdown",
   "metadata": {},
   "source": [
    "## The Hypergeometric Distribution\n",
    "We can describe this distribution as: performing n <strong>dependent</strong> trials with n successes and M total items in a \"group\" or \"bag\"\n",
    "<br>\n",
    "Math and Code inspired by https://docs.scipy.org/doc/scipy/reference/generated/scipy.stats.hypergeom.html\n"
   ]
  },
  {
   "cell_type": "code",
   "execution_count": 64,
   "metadata": {},
   "outputs": [],
   "source": [
    "def hypergeometric(M, n, N, size=1):\n",
    "    return hypergeom.rvs(M, n, N, size=size)"
   ]
  },
  {
   "cell_type": "code",
   "execution_count": 65,
   "metadata": {},
   "outputs": [],
   "source": [
    "def custom_hypergeometric(M, n, N, size=1):\n",
    "    \"\"\"\n",
    "    M = total items in sample\n",
    "    n = number of \"success\" in sample\n",
    "    N = size of items chosen\n",
    "    \"\"\"\n",
    "    \n",
    "    pmf = np.array([p_hypergeo(M, n, N, i) for i in range(n+1)])\n",
    "    cdf = [sum(pmf[:i+1]) for i in range(len(pmf))]\n",
    "    \n",
    "    data = np.zeros(size)\n",
    "    for i in range(size):\n",
    "        continuous_value = random.random()\n",
    "        data[i] = np.min(np.where(np.less(continuous_value, cdf) == True))\n",
    "    \n",
    "    return data.astype('int64')\n",
    "\n",
    "    \n",
    "def p_hypergeo(M, n, N, k):\n",
    "    \"\"\"\n",
    "    definition of the hypergeometric probability mass function\n",
    "    \"\"\"\n",
    "    \n",
    "    return (bin_coef(n, k) * bin_coef(M - n, N - k)) \\\n",
    "            / bin_coef(M, N)\n",
    "    \n",
    "    \n",
    "def bin_coef(n, k):\n",
    "    \"\"\"\n",
    "    helper function to get binomial coefficients\n",
    "    \"\"\"\n",
    "    \n",
    "    return factorial(n) / (factorial(k) * factorial(n - k))"
   ]
  },
  {
   "cell_type": "code",
   "execution_count": 66,
   "metadata": {},
   "outputs": [
    {
     "name": "stdout",
     "output_type": "stream",
     "text": [
      "Scipy's hypergeometric rv output frequency:  [ 500 3662 4691 1147]\n",
      "Custom hypergeometric rv output frequency:   [ 449 3574 4757 1220]\n"
     ]
    },
    {
     "data": {
      "image/png": "[encoded data removed]",
      "text/plain": [
       "<Figure size 432x288 with 1 Axes>"
      ]
     },
     "metadata": {
      "needs_background": "light"
     },
     "output_type": "display_data"
    },
    {
     "data": {
      "image/png": "[encoded data removed]",
      "text/plain": [
       "<Figure size 432x288 with 1 Axes>"
      ]
     },
     "metadata": {
      "needs_background": "light"
     },
     "output_type": "display_data"
    }
   ],
   "source": [
    "discrete_distribution_analysis(\"hypergeometric\", hypergeometric(9, 3, 5, 10_000),  custom_hypergeometric(9, 3, 5, 10_000))"
   ]
  },
  {
   "cell_type": "markdown",
   "metadata": {},
   "source": [
    "## Geometric\n",
    "We can describe this distribution as: performing <strong>independent</strong> trials until we receive our first success <br>\n",
    "Math and Code inspired by https://docs.scipy.org/doc/scipy/reference/generated/scipy.stats.geom.html"
   ]
  },
  {
   "cell_type": "code",
   "execution_count": 67,
   "metadata": {},
   "outputs": [],
   "source": [
    "def geometric(p, size=1):\n",
    "    return geom.rvs(p, size=size) - 1"
   ]
  },
  {
   "cell_type": "code",
   "execution_count": 68,
   "metadata": {},
   "outputs": [],
   "source": [
    "def custom_geometric(p, size=1):\n",
    "    \"\"\"\n",
    "    p = probability of success\n",
    "    \"\"\"\n",
    "    \n",
    "    data = np.zeros(size)\n",
    "    for i in range(size):\n",
    "        \n",
    "        count = 0\n",
    "        continuous_value = 1\n",
    "        while continuous_value > p:\n",
    "            count += 1\n",
    "            continuous_value = random.random()\n",
    "        data[i] = count - 1\n",
    "    \n",
    "    return data.astype('int64')"
   ]
  },
  {
   "cell_type": "code",
   "execution_count": 69,
   "metadata": {},
   "outputs": [
    {
     "name": "stdout",
     "output_type": "stream",
     "text": [
      "Scipy's geometric rv output frequency:  [611 231 110  37   6   1   2   1   1]\n",
      "Custom geometric rv output frequency:   [629 236  83  35   9   6   1   1]\n"
     ]
    },
    {
     "data": {
      "image/png": "[encoded data removed]",
      "text/plain": [
       "<Figure size 432x288 with 1 Axes>"
      ]
     },
     "metadata": {
      "needs_background": "light"
     },
     "output_type": "display_data"
    },
    {
     "data": {
      "image/png": "[encoded data removed]",
      "text/plain": [
       "<Figure size 432x288 with 1 Axes>"
      ]
     },
     "metadata": {
      "needs_background": "light"
     },
     "output_type": "display_data"
    }
   ],
   "source": [
    "discrete_distribution_analysis(\"geometric\", geometric(0.6, 1000),  custom_geometric(0.6, 1000))"
   ]
  },
  {
   "cell_type": "markdown",
   "metadata": {},
   "source": [
    "## Negative Binomial\n",
    "We can describe this distribution as: performing <strong>independent</strong> trials until we receive n success <br>\n",
    "Math and Code inspired by https://docs.scipy.org/doc/scipy/reference/generated/scipy.stats.nbinom.html"
   ]
  },
  {
   "cell_type": "code",
   "execution_count": 70,
   "metadata": {},
   "outputs": [],
   "source": [
    "def negative_binomial(n, p, size=1):\n",
    "    return nbinom.rvs(n, p, size=size)"
   ]
  },
  {
   "cell_type": "code",
   "execution_count": 71,
   "metadata": {},
   "outputs": [],
   "source": [
    "def custom_negative_binomial(n, p, size=1):\n",
    "    data = np.zeros(size)\n",
    "    for j in range(size):\n",
    "        attempts = 0\n",
    "        for i in range(n):\n",
    "            attempts += custom_geometric(p)\n",
    "        data[j] = attempts\n",
    "    return data.astype('int64')"
   ]
  },
  {
   "cell_type": "code",
   "execution_count": 102,
   "metadata": {},
   "outputs": [
    {
     "name": "stdout",
     "output_type": "stream",
     "text": [
      "Scipy's negative_binomial rv output frequency:  [124 206 223 193 126  67  38  11  10   1   1]\n",
      "Custom negative_binomial rv output frequency:   [104 216 230 185 126  80  39  10   5   4   1]\n"
     ]
    },
    {
     "data": {
      "image/png": "[encoded data removed]",
      "text/plain": [
       "<Figure size 432x288 with 1 Axes>"
      ]
     },
     "metadata": {
      "needs_background": "light"
     },
     "output_type": "display_data"
    },
    {
     "data": {
      "image/png": "[encoded data removed]",
      "text/plain": [
       "<Figure size 432x288 with 1 Axes>"
      ]
     },
     "metadata": {
      "needs_background": "light"
     },
     "output_type": "display_data"
    }
   ],
   "source": [
    "discrete_distribution_analysis(\"negative_binomial\", negative_binomial(10, 0.8, size=1000),  custom_negative_binomial(10, 0.8, size=1000))"
   ]
  },
  {
   "cell_type": "markdown",
   "metadata": {},
   "source": [
    "## Poisson\n",
    "We can describe this distribution as: the probability an event occurs n times given an observation of the event occurring m times over a fixed interval <br>\n",
    "Math and Code inspired by https://docs.scipy.org/doc/scipy/reference/generated/scipy.stats.poisson.html"
   ]
  },
  {
   "cell_type": "code",
   "execution_count": 73,
   "metadata": {},
   "outputs": [],
   "source": [
    "def p(lam, size=1):\n",
    "    return poisson.rvs(lam, size=size)"
   ]
  },
  {
   "cell_type": "code",
   "execution_count": 74,
   "metadata": {},
   "outputs": [],
   "source": [
    "def custom_poisson(lam, size=1):\n",
    "    \"\"\"\n",
    "    lam = number of event occurences over given interval\n",
    "    \"\"\"\n",
    "    \n",
    "    pmf = np.array([p_y(lam, i) for i in range(lam * 10)])\n",
    "    cdf = [sum(pmf[:i+1]) for i in range(len(pmf))]\n",
    "    \n",
    "    data = np.zeros(size)\n",
    "    for i in range(size):\n",
    "        continuous_value = random.random()\n",
    "        data[i] = np.min(np.where(np.less(continuous_value, cdf) == True))\n",
    "    \n",
    "    return data.astype('int64')\n",
    "\n",
    "def p_y(lam, y):\n",
    "    return ((lam ** y) * np.exp(-lam)) / factorial(y)"
   ]
  },
  {
   "cell_type": "code",
   "execution_count": 95,
   "metadata": {},
   "outputs": [
    {
     "name": "stdout",
     "output_type": "stream",
     "text": [
      "Scipy's poisson rv output frequency:  [  5  30  81 123 190 165 155 118  63  37  15  10   5   0   3]\n",
      "Custom poisson rv output frequency:   [  5  34  79 152 183 165 149 107  69  27  18   5   4   3]\n"
     ]
    },
    {
     "data": {
      "image/png": "[encoded data removed]",
      "text/plain": [
       "<Figure size 432x288 with 1 Axes>"
      ]
     },
     "metadata": {
      "needs_background": "light"
     },
     "output_type": "display_data"
    },
    {
     "data": {
      "image/png": "[encoded data removed]",
      "text/plain": [
       "<Figure size 432x288 with 1 Axes>"
      ]
     },
     "metadata": {
      "needs_background": "light"
     },
     "output_type": "display_data"
    }
   ],
   "source": [
    "discrete_distribution_analysis(\"poisson\", p(5, 1000), custom_poisson(5, 1000))"
   ]
  },
  {
   "cell_type": "markdown",
   "metadata": {},
   "source": [
    "## Uniform\n",
    "We can describe this distribution as: an equal probability for all values of x in a <strong>continuous</strong> range (a, b) <br>\n",
    "Math and Code inspired by https://docs.scipy.org/doc/scipy/reference/generated/scipy.stats.uniform.html"
   ]
  },
  {
   "cell_type": "code",
   "execution_count": 96,
   "metadata": {},
   "outputs": [],
   "source": [
    "def u(a, b, size=1):\n",
    "    return (uniform.rvs(size=size) * (b - a) + a)"
   ]
  },
  {
   "cell_type": "code",
   "execution_count": 97,
   "metadata": {},
   "outputs": [],
   "source": [
    "def custom_u(a, b, size=1):\n",
    "    data = np.zeros(size)\n",
    "    for i in range(size):\n",
    "        data[i] = (random.random() * (b - a) + a) \n",
    "    return data"
   ]
  },
  {
   "cell_type": "code",
   "execution_count": 98,
   "metadata": {},
   "outputs": [
    {
     "name": "stdout",
     "output_type": "stream",
     "text": [
      "Scipy's uniform rv mean: 0.499\n",
      "Custom uniform rv mean: 0.500\n",
      "Scipy's uniform rv stdev: 0.288\n",
      "Custom uniform rv stdev: 0.289\n"
     ]
    },
    {
     "data": {
      "image/png": "[encoded data removed]",
      "text/plain": [
       "<Figure size 432x288 with 1 Axes>"
      ]
     },
     "metadata": {
      "needs_background": "light"
     },
     "output_type": "display_data"
    },
    {
     "data": {
      "image/png": "[encoded data removed]",
      "text/plain": [
       "<Figure size 432x288 with 1 Axes>"
      ]
     },
     "metadata": {
      "needs_background": "light"
     },
     "output_type": "display_data"
    }
   ],
   "source": [
    "continuous_distribution_analysis(\"uniform\", u(0,1, 10000), custom_u(0,1, 10000))"
   ]
  },
  {
   "cell_type": "markdown",
   "metadata": {},
   "source": [
    "## Normal\n",
    "We can describe this distribution as: the most famous distribution, popularly found using the central limit theorem <br>\n",
    "Math and Code inspired by https://docs.scipy.org/doc/scipy/reference/generated/scipy.stats.norm.html"
   ]
  },
  {
   "cell_type": "code",
   "execution_count": 99,
   "metadata": {},
   "outputs": [],
   "source": [
    "def normal(size=1):\n",
    "    return norm.rvs(size=size)"
   ]
  },
  {
   "cell_type": "code",
   "execution_count": 100,
   "metadata": {},
   "outputs": [],
   "source": [
    "def custom_normal(size = 1):\n",
    "    \n",
    "    data = np.zeros(size)\n",
    "    for i in range(size):\n",
    "        data[i] = np.mean(custom_u(0, 1, 10))\n",
    "    return (data - 0.5) / np.std(data)"
   ]
  },
  {
   "cell_type": "code",
   "execution_count": 101,
   "metadata": {},
   "outputs": [
    {
     "name": "stdout",
     "output_type": "stream",
     "text": [
      "Scipy's uniform rv mean: 0.001\n",
      "Custom uniform rv mean: 0.009\n",
      "Scipy's uniform rv stdev: 1.009\n",
      "Custom uniform rv stdev: 1.000\n"
     ]
    },
    {
     "data": {
      "image/png": "[encoded data removed]",
      "text/plain": [
       "<Figure size 432x288 with 1 Axes>"
      ]
     },
     "metadata": {
      "needs_background": "light"
     },
     "output_type": "display_data"
    },
    {
     "data": {
      "image/png": "[encoded data removed]",
      "text/plain": [
       "<Figure size 432x288 with 1 Axes>"
      ]
     },
     "metadata": {
      "needs_background": "light"
     },
     "output_type": "display_data"
    }
   ],
   "source": [
    "continuous_distribution_analysis(\"uniform\", normal(10000), custom_normal(10000))"
   ]
  },
  {
   "cell_type": "code",
   "execution_count": null,
   "metadata": {},
   "outputs": [],
   "source": []
  }
 ],
 "metadata": {
  "kernelspec": {
   "display_name": "Python 3",
   "language": "python",
   "name": "python3"
  },
  "language_info": {
   "codemirror_mode": {
    "name": "ipython",
    "version": 3
   },
   "file_extension": ".py",
   "mimetype": "text/x-python",
   "name": "python",
   "nbconvert_exporter": "python",
   "pygments_lexer": "ipython3",
   "version": "3.7.3"
  }
 },
 "nbformat": 4,
 "nbformat_minor": 2
}
