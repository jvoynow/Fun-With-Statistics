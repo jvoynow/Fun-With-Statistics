{
 "cells": [
  {
   "cell_type": "code",
   "execution_count": 355,
   "metadata": {},
   "outputs": [],
   "source": [
    "import numpy as np\n",
    "import pandas as pd\n",
    "import matplotlib.pyplot as plt\n",
    "\n",
    "from sklearn.datasets import make_regression\n",
    "from sklearn.linear_model import LinearRegression"
   ]
  },
  {
   "cell_type": "markdown",
   "metadata": {},
   "source": [
    "## We Need Data\n",
    "We will use sklearn's make_regression function in order to give us a proper data to perform simple linear regression analysis."
   ]
  },
  {
   "cell_type": "code",
   "execution_count": 525,
   "metadata": {},
   "outputs": [],
   "source": [
    "data, targets = make_regression(\n",
    "    n_samples=10,    # samples per feaure\n",
    "    n_features=5,    # number of features\n",
    "    n_informative=3, # numer of informative features\n",
    "    bias = np.sum(np.random.rand(5)),\n",
    ")"
   ]
  },
  {
   "cell_type": "markdown",
   "metadata": {},
   "source": [
    "## Correlation\n",
    "We cheated (for the purpose of learning!). It is certain that we have three \"informative\" variables as stated in our make_regression. <br>\n",
    "Let us confirm this by finding the correlation coefficients between each of our features and our target."
   ]
  },
  {
   "cell_type": "code",
   "execution_count": 526,
   "metadata": {},
   "outputs": [
    {
     "name": "stdout",
     "output_type": "stream",
     "text": [
      "Correlation of feature vs target\n",
      "\n",
      "Feature 0 : 0.424\n",
      "Feature 1 : -0.625\n",
      "Feature 2 : 0.184\n",
      "Feature 3 : 0.741\n",
      "Feature 4 : 0.718\n"
     ]
    }
   ],
   "source": [
    "print(\"Correlation of feature vs target\\n\")\n",
    "for i in range(data.shape[1]):\n",
    "    corr_matrix = np.corrcoef(data[:,i], targets)\n",
    "    print(\"Feature\",i,\":\",format(corr_matrix[0, 1], '.3f'))"
   ]
  },
  {
   "cell_type": "markdown",
   "metadata": {},
   "source": [
    "## Regression\n",
    "It has been made apparent that we have some useful features to play with. Lets create a best fit line for our data using least squares. <br>\n",
    "In order to check the coefficients found below, we will use sklearn's built in linear_model &rarr; LinearRegression function. <br><br>\n",
    "<em>Note: Doing multiple regression may result in higher predictive power, but lets save that for the next notebook!</em>"
   ]
  },
  {
   "cell_type": "code",
   "execution_count": 487,
   "metadata": {},
   "outputs": [],
   "source": [
    "def simple_least_squares(x, y):\n",
    "    \n",
    "    \"\"\"\n",
    "    Custom least squares regression\n",
    "    \"\"\"\n",
    "    \n",
    "    x_mean = np.mean(x)\n",
    "    y_mean = np.mean(y)\n",
    "    \n",
    "    b1 = np.sum(np.dot((x - x_mean), (y - y_mean))) / np.sum(np.dot((x - x_mean),(x - x_mean)))\n",
    "    b0 = y_mean - np.dot(b1, x_mean)\n",
    "    \n",
    "    return b0, b1"
   ]
  },
  {
   "cell_type": "code",
   "execution_count": 488,
   "metadata": {},
   "outputs": [],
   "source": [
    "def simple_sklearn_regression(x, y):\n",
    "    \n",
    "    \"\"\"\n",
    "    sklearn's regression\n",
    "    \"\"\"\n",
    "    \n",
    "    model = LinearRegression()\n",
    "    model.fit(x.reshape(-1, 1), y)\n",
    "    return (model.intercept_, model.coef_[0])"
   ]
  },
  {
   "cell_type": "code",
   "execution_count": 529,
   "metadata": {},
   "outputs": [
    {
     "name": "stdout",
     "output_type": "stream",
     "text": [
      "Custom Eq:\ty = -37.287 + 53.022 x\n",
      "Sklearn Eq:\ty = -37.287 + 53.022 x\n"
     ]
    }
   ],
   "source": [
    "b0, b1 = simple_least_squares(data[:, 3], targets)\n",
    "print(\"Custom Eq:\\ty =\", format(b0,'.3f'), \"+\", format(b1,'.3f'), \"x\")\n",
    "b0, b1 = simple_sklearn_regression(data[:, 3], targets)\n",
    "print(\"Sklearn Eq:\\ty =\", format(b0,'.3f'), \"+\", format(b1,'.3f'), \"x\")"
   ]
  },
  {
   "cell_type": "markdown",
   "metadata": {},
   "source": [
    "## Basic Regression Analysis\n",
    "Lets look at some of our most informative features."
   ]
  },
  {
   "cell_type": "code",
   "execution_count": 490,
   "metadata": {},
   "outputs": [],
   "source": [
    "def regression_plot(x, y, b0, b1):\n",
    "    \n",
    "    \"\"\"\n",
    "    Helper function to make clean visualizations from our regression\n",
    "    \"\"\"\n",
    "    \n",
    "    min_val = np.min(x)\n",
    "    max_val = np.max(x)\n",
    "    min_y = b1 * min_val + b0\n",
    "    max_y = b1 * max_val + b0\n",
    "\n",
    "    plt.scatter(x, y, label=\"Data\")\n",
    "    plt.plot([min_val, max_val], [min_y, max_y], c='r', label=\"Line of Fit\")\n",
    "    plt.title(\"Least Squares Fit of Our Data\")\n",
    "    plt.xlabel(\"x values\")\n",
    "    plt.ylabel(\"y values\")\n",
    "    plt.legend()\n",
    "    plt.show()"
   ]
  },
  {
   "cell_type": "code",
   "execution_count": 491,
   "metadata": {},
   "outputs": [],
   "source": [
    "def sum_of_square_total(y):\n",
    "    \n",
    "    \"\"\"\n",
    "    Total square error squared, where fit line = mean(y)\n",
    "    \"\"\"\n",
    "    \n",
    "    mean_y = np.mean(y)\n",
    "    return np.sum([(y[i] - mean_y) ** 2 for i in range(len(y))])"
   ]
  },
  {
   "cell_type": "code",
   "execution_count": 492,
   "metadata": {},
   "outputs": [],
   "source": [
    "def sum_of_square_error(x, y, b0, b1):\n",
    "    \n",
    "    \"\"\"\n",
    "    sum of \"Residual\" error between predicted output and desired output squeared\n",
    "    \"\"\"\n",
    "    \n",
    "    return np.sum([(y[i] - predict(x[i], b0, b1)) ** 2 for i in range(len(y))])\n",
    "\n",
    "def predict(x, b0, b1):\n",
    "    return b0 + b1 * x"
   ]
  },
  {
   "cell_type": "code",
   "execution_count": 493,
   "metadata": {},
   "outputs": [],
   "source": [
    "def sum_of_square_regression(SST, SSE):\n",
    "    \n",
    "    \"\"\"\n",
    "    Difference between total error and residual error\n",
    "    \"\"\"\n",
    "    \n",
    "    return SST - SSE"
   ]
  },
  {
   "cell_type": "code",
   "execution_count": 494,
   "metadata": {},
   "outputs": [],
   "source": [
    "def r_square(SSR, SST):\n",
    "    \n",
    "    \"\"\"\n",
    "    How well our best fit line compares to the total square error\n",
    "    \"\"\"\n",
    "    \n",
    "    return SSR / SST"
   ]
  },
  {
   "cell_type": "code",
   "execution_count": 495,
   "metadata": {},
   "outputs": [],
   "source": [
    "def regression_analysis(x, y):\n",
    "    \n",
    "    \"\"\"\n",
    "    Suite for analysis\n",
    "    \"\"\"\n",
    "    \n",
    "    b0, b1 = simple_least_squares(x, y)\n",
    "    SST = sum_of_square_total(y)\n",
    "    SSE = sum_of_square_error(x, y, b0, b1)\n",
    "    SSR = sum_of_square_regression(SST, SSE)\n",
    "    rsqr = r_square(SSR, SST)\n",
    "    \n",
    "    print(\"- \" * 30)\n",
    "    print(\"SST :\", custom_format(SST))\n",
    "    print(\"SSE :\", custom_format(SSE))\n",
    "    print(\"SSR :\", custom_format(SSR))\n",
    "    print(\"R^2 :\", custom_format(rsqr))  \n",
    "    print(\"- \" * 30)\n",
    "    regression_plot(x, y, b0, b1)\n",
    "\n",
    "def custom_format(val):\n",
    "    return format(val, '.3f')"
   ]
  },
  {
   "cell_type": "code",
   "execution_count": 528,
   "metadata": {},
   "outputs": [
    {
     "name": "stdout",
     "output_type": "stream",
     "text": [
      "Feature 1\n",
      "- - - - - - - - - - - - - - - - - - - - - - - - - - - - - - \n",
      "SST : 57826.505\n",
      "SSE : 35239.874\n",
      "SSR : 22586.631\n",
      "R^2 : 0.391\n",
      "- - - - - - - - - - - - - - - - - - - - - - - - - - - - - - \n"
     ]
    },
    {
     "data": {
      "image/png": "[encoded data removed]",
      "text/plain": [
       "<Figure size 432x288 with 1 Axes>"
      ]
     },
     "metadata": {
      "needs_background": "light"
     },
     "output_type": "display_data"
    },
    {
     "name": "stdout",
     "output_type": "stream",
     "text": [
      "Feature 3\n",
      "- - - - - - - - - - - - - - - - - - - - - - - - - - - - - - \n",
      "SST : 57826.505\n",
      "SSE : 26070.562\n",
      "SSR : 31755.943\n",
      "R^2 : 0.549\n",
      "- - - - - - - - - - - - - - - - - - - - - - - - - - - - - - \n"
     ]
    },
    {
     "data": {
      "image/png": "[encoded data removed]",
      "text/plain": [
       "<Figure size 432x288 with 1 Axes>"
      ]
     },
     "metadata": {
      "needs_background": "light"
     },
     "output_type": "display_data"
    },
    {
     "name": "stdout",
     "output_type": "stream",
     "text": [
      "Feature 4\n",
      "- - - - - - - - - - - - - - - - - - - - - - - - - - - - - - \n",
      "SST : 57826.505\n",
      "SSE : 28015.863\n",
      "SSR : 29810.643\n",
      "R^2 : 0.516\n",
      "- - - - - - - - - - - - - - - - - - - - - - - - - - - - - - \n"
     ]
    },
    {
     "data": {
      "image/png": "[encoded data removed]",
      "text/plain": [
       "<Figure size 432x288 with 1 Axes>"
      ]
     },
     "metadata": {
      "needs_background": "light"
     },
     "output_type": "display_data"
    }
   ],
   "source": [
    "relevant_features = [1, 3, 4]\n",
    "for i in relevant_features:\n",
    "    print(\"Feature\", i)\n",
    "    regression_analysis(data[:, i], targets)"
   ]
  },
  {
   "cell_type": "code",
   "execution_count": null,
   "metadata": {},
   "outputs": [],
   "source": []
  }
 ],
 "metadata": {
  "kernelspec": {
   "display_name": "Python 3",
   "language": "python",
   "name": "python3"
  },
  "language_info": {
   "codemirror_mode": {
    "name": "ipython",
    "version": 3
   },
   "file_extension": ".py",
   "mimetype": "text/x-python",
   "name": "python",
   "nbconvert_exporter": "python",
   "pygments_lexer": "ipython3",
   "version": "3.7.3"
  }
 },
 "nbformat": 4,
 "nbformat_minor": 2
}
