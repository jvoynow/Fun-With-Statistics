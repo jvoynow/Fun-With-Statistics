{
 "cells": [
  {
   "cell_type": "code",
   "execution_count": 701,
   "metadata": {},
   "outputs": [],
   "source": [
    "import numpy as np\n",
    "import pandas as pd\n",
    "import seaborn as sns\n",
    "import matplotlib.pyplot as plt\n",
    "import statsmodels.stats as stats\n",
    "\n",
    "from sklearn.linear_model import LinearRegression\n",
    "from sklearn.ensemble import RandomForestRegressor\n",
    "from sklearn.model_selection import train_test_split"
   ]
  },
  {
   "cell_type": "markdown",
   "metadata": {},
   "source": [
    "***\n",
    "# What data will we use?\n",
    "Since we are planning on performing multiple linear regression, we want a small but diverse dataset. In the following notebook, we will be examining the relationship between a set of variables and life expectancy. <br>\n",
    "Dataset: https://www.kaggle.com/kumarajarshi/life-expectancy-who"
   ]
  },
  {
   "cell_type": "code",
   "execution_count": 818,
   "metadata": {
    "scrolled": true
   },
   "outputs": [],
   "source": [
    "df = pd.read_csv(R'C:\\Users\\voyno\\OneDrive\\Desktop\\Python Projects\\Life Expectancy Data.csv')"
   ]
  },
  {
   "cell_type": "code",
   "execution_count": 819,
   "metadata": {},
   "outputs": [],
   "source": [
    "df.columns = ['Country',\n",
    "              'Year', \n",
    "              'Status', \n",
    "              'Life expectancy', \n",
    "              'Adult Mortality',\n",
    "              'infant deaths', \n",
    "              'Alcohol', \n",
    "              'Expenditure%', \n",
    "              'Hepatitis B',\n",
    "              'Measles', \n",
    "              'BMI', \n",
    "              'deaths<5', \n",
    "              'Polio', \n",
    "              'ExpenditureTot',\n",
    "              'Diphtheria', \n",
    "              'HIV/AIDS', \n",
    "              'GDP', \n",
    "              'Population',\n",
    "              'thinness1-19', \n",
    "              'thinness5-9',\n",
    "              'ICoR', \n",
    "              'Schooling']"
   ]
  },
  {
   "cell_type": "markdown",
   "metadata": {},
   "source": [
    "***\n",
    "# Lets clean our data\n",
    "There are a few things we need to tidy up. <br>\n",
    "1. Lets remove the country attribute, it is a sparse categorical variable\n",
    "2. We need to transform our status feature into a binary encoding\n",
    "3. If there are any null values at this point, we can remove that section of data\n",
    "4. The column names can be changed to more convenient/concise values\n",
    "5. Finally, we can separate our data into independent vs dependent variables\n",
    "***"
   ]
  },
  {
   "cell_type": "code",
   "execution_count": 820,
   "metadata": {},
   "outputs": [],
   "source": [
    "df.drop(['Country'], axis=1, inplace=True)"
   ]
  },
  {
   "cell_type": "code",
   "execution_count": 821,
   "metadata": {},
   "outputs": [],
   "source": [
    "status_dev = np.where(df['Status'].values == 'Developing')[0]\n",
    "status_nondev = np.where(df['Status'].values != 'Developing')[0]\n",
    "\n",
    "new_status = np.zeros(len(df['Status'].values))\n",
    "new_status[status_dev] = 1\n",
    "new_status[status_nondev] = 0\n",
    "df['Status'] = new_status"
   ]
  },
  {
   "cell_type": "code",
   "execution_count": 822,
   "metadata": {},
   "outputs": [],
   "source": [
    "df.drop(np.where(np.sum(df.isnull().values, axis=1) != 0)[0], axis=0, inplace=True)"
   ]
  },
  {
   "cell_type": "code",
   "execution_count": 823,
   "metadata": {},
   "outputs": [],
   "source": [
    "y = df['Life expectancy']\n",
    "df.drop(['Life expectancy'], axis=1, inplace=True)"
   ]
  },
  {
   "cell_type": "markdown",
   "metadata": {},
   "source": [
    "***\n",
    "# Our data is ready\n",
    "Now we need to examine the relationships amongst our data.\n",
    "1. We can only do linear regression if our independent variables are <strong>correlated</strong> with our dependent variable.\n",
    "2. The performance of our regression will decrease significantly if we have a strong presence of multicollinearity.\n",
    "(To determine this we can examine the relationship amongst our independent variables)\n",
    "***"
   ]
  },
  {
   "cell_type": "code",
   "execution_count": 824,
   "metadata": {},
   "outputs": [
    {
     "name": "stdout",
     "output_type": "stream",
     "text": [
      "Year            = 0.051\n",
      "infant deaths   = -0.169\n",
      "Hepatitis B     = 0.200\n",
      "Measles         = -0.069\n",
      "deaths<5        = -0.192\n",
      "Polio           = 0.327\n",
      "ExpenditureTot  = 0.175\n",
      "Diphtheria      = 0.341\n",
      "Population      = -0.022\n"
     ]
    }
   ],
   "source": [
    "# Correlation between our individual features and our target\n",
    "# remove features that have little correlation\n",
    "for column in df.columns:\n",
    "    column_corr = np.corrcoef(df[column].values, y.values)[0,1]\n",
    "    if np.absolute(column_corr) < .35:\n",
    "        print(format(column,'15s'),\"=\", format(column_corr,'.3f'))\n",
    "        df.drop([column], axis=1, inplace=True)"
   ]
  },
  {
   "cell_type": "code",
   "execution_count": 828,
   "metadata": {},
   "outputs": [
    {
     "data": {
      "text/plain": [
       "<matplotlib.axes._subplots.AxesSubplot at 0x25e9d5b7e80>"
      ]
     },
     "execution_count": 828,
     "metadata": {},
     "output_type": "execute_result"
    },
    {
     "data": {
      "image/png": "[encoded data removed]",
      "text/plain": [
       "<Figure size 432x288 with 2 Axes>"
      ]
     },
     "metadata": {
      "needs_background": "light"
     },
     "output_type": "display_data"
    }
   ],
   "source": [
    "# Correlation amongst our individual features, in depth\n",
    "sns.heatmap(df.corr(), cmap='rainbow')"
   ]
  },
  {
   "cell_type": "code",
   "execution_count": 829,
   "metadata": {},
   "outputs": [
    {
     "name": "stdout",
     "output_type": "stream",
     "text": [
      "\n",
      "\n",
      "\u001b[1m Status \u001b[0m\n",
      "- - - - - - - - - - - - - - - - - - - - - - - - - - - - - - - - - - - - - - - - \n",
      "\t Adult Mortality = 0.278\n",
      "\t Alcohol     = -0.608\n",
      "\t Expenditure% = -0.462\n",
      "\t BMI         = -0.298\n",
      "\t HIV/AIDS    = 0.130\n",
      "\t GDP         = -0.485\n",
      "\t thinness1-19 = 0.308\n",
      "\t thinness5-9 = 0.307\n",
      "\t ICoR        = -0.464\n",
      "\t Schooling   = -0.513\n",
      "- - - - - - - - - - - - - - - - - - - - - - - - - - - - - - - - - - - - - - - - \n",
      "\n",
      "\n",
      "\u001b[1m Adult Mortality \u001b[0m\n",
      "- - - - - - - - - - - - - - - - - - - - - - - - - - - - - - - - - - - - - - - - \n",
      "\t Status      = 0.278\n",
      "\t Alcohol     = -0.176\n",
      "\t Expenditure% = -0.238\n",
      "\t BMI         = -0.352\n",
      "\t HIV/AIDS    = 0.551\n",
      "\t GDP         = -0.255\n",
      "\t thinness1-19 = 0.272\n",
      "\t thinness5-9 = 0.287\n",
      "\t ICoR        = -0.442\n",
      "\t Schooling   = -0.421\n",
      "- - - - - - - - - - - - - - - - - - - - - - - - - - - - - - - - - - - - - - - - \n",
      "\n",
      "\n",
      "\u001b[1m Alcohol \u001b[0m\n",
      "- - - - - - - - - - - - - - - - - - - - - - - - - - - - - - - - - - - - - - - - \n",
      "\t Status      = -0.608\n",
      "\t Adult Mortality = -0.176\n",
      "\t Expenditure% = 0.417\n",
      "\t BMI         = 0.353\n",
      "\t HIV/AIDS    = -0.027\n",
      "\t GDP         = 0.443\n",
      "\t thinness1-19 = -0.404\n",
      "\t thinness5-9 = -0.386\n",
      "\t ICoR        = 0.561\n",
      "\t Schooling   = 0.617\n",
      "- - - - - - - - - - - - - - - - - - - - - - - - - - - - - - - - - - - - - - - - \n",
      "\n",
      "\n",
      "\u001b[1m Expenditure% \u001b[0m\n",
      "- - - - - - - - - - - - - - - - - - - - - - - - - - - - - - - - - - - - - - - - \n",
      "\t Status      = -0.462\n",
      "\t Adult Mortality = -0.238\n",
      "\t Alcohol     = 0.417\n",
      "\t BMI         = 0.243\n",
      "\t HIV/AIDS    = -0.095\n",
      "\t GDP         = 0.959\n",
      "\t thinness1-19 = -0.255\n",
      "\t thinness5-9 = -0.256\n",
      "\t ICoR        = 0.402\n",
      "\t Schooling   = 0.422\n",
      "- - - - - - - - - - - - - - - - - - - - - - - - - - - - - - - - - - - - - - - - \n",
      "\n",
      "\n",
      "\u001b[1m BMI \u001b[0m\n",
      "- - - - - - - - - - - - - - - - - - - - - - - - - - - - - - - - - - - - - - - - \n",
      "\t Status      = -0.298\n",
      "\t Adult Mortality = -0.352\n",
      "\t Alcohol     = 0.353\n",
      "\t Expenditure% = 0.243\n",
      "\t HIV/AIDS    = -0.211\n",
      "\t GDP         = 0.266\n",
      "\t thinness1-19 = -0.547\n",
      "\t thinness5-9 = -0.554\n",
      "\t ICoR        = 0.511\n",
      "\t Schooling   = 0.555\n",
      "- - - - - - - - - - - - - - - - - - - - - - - - - - - - - - - - - - - - - - - - \n",
      "\n",
      "\n",
      "\u001b[1m HIV/AIDS \u001b[0m\n",
      "- - - - - - - - - - - - - - - - - - - - - - - - - - - - - - - - - - - - - - - - \n",
      "\t Status      = 0.130\n",
      "\t Adult Mortality = 0.551\n",
      "\t Alcohol     = -0.027\n",
      "\t Expenditure% = -0.095\n",
      "\t BMI         = -0.211\n",
      "\t GDP         = -0.108\n",
      "\t thinness1-19 = 0.173\n",
      "\t thinness5-9 = 0.183\n",
      "\t ICoR        = -0.249\n",
      "\t Schooling   = -0.212\n",
      "- - - - - - - - - - - - - - - - - - - - - - - - - - - - - - - - - - - - - - - - \n",
      "\n",
      "\n",
      "\u001b[1m GDP \u001b[0m\n",
      "- - - - - - - - - - - - - - - - - - - - - - - - - - - - - - - - - - - - - - - - \n",
      "\t Status      = -0.485\n",
      "\t Adult Mortality = -0.255\n",
      "\t Alcohol     = 0.443\n",
      "\t Expenditure% = 0.959\n",
      "\t BMI         = 0.266\n",
      "\t HIV/AIDS    = -0.108\n",
      "\t thinness1-19 = -0.277\n",
      "\t thinness5-9 = -0.278\n",
      "\t ICoR        = 0.447\n",
      "\t Schooling   = 0.468\n",
      "- - - - - - - - - - - - - - - - - - - - - - - - - - - - - - - - - - - - - - - - \n",
      "\n",
      "\n",
      "\u001b[1m thinness1-19 \u001b[0m\n",
      "- - - - - - - - - - - - - - - - - - - - - - - - - - - - - - - - - - - - - - - - \n",
      "\t Status      = 0.308\n",
      "\t Adult Mortality = 0.272\n",
      "\t Alcohol     = -0.404\n",
      "\t Expenditure% = -0.255\n",
      "\t BMI         = -0.547\n",
      "\t HIV/AIDS    = 0.173\n",
      "\t GDP         = -0.277\n",
      "\t thinness5-9 = 0.928\n",
      "\t ICoR        = -0.454\n",
      "\t Schooling   = -0.491\n",
      "- - - - - - - - - - - - - - - - - - - - - - - - - - - - - - - - - - - - - - - - \n",
      "\n",
      "\n",
      "\u001b[1m thinness5-9 \u001b[0m\n",
      "- - - - - - - - - - - - - - - - - - - - - - - - - - - - - - - - - - - - - - - - \n",
      "\t Status      = 0.307\n",
      "\t Adult Mortality = 0.287\n",
      "\t Alcohol     = -0.386\n",
      "\t Expenditure% = -0.256\n",
      "\t BMI         = -0.554\n",
      "\t HIV/AIDS    = 0.183\n",
      "\t GDP         = -0.278\n",
      "\t thinness1-19 = 0.928\n",
      "\t ICoR        = -0.438\n",
      "\t Schooling   = -0.472\n",
      "- - - - - - - - - - - - - - - - - - - - - - - - - - - - - - - - - - - - - - - - \n",
      "\n",
      "\n",
      "\u001b[1m ICoR \u001b[0m\n",
      "- - - - - - - - - - - - - - - - - - - - - - - - - - - - - - - - - - - - - - - - \n",
      "\t Status      = -0.464\n",
      "\t Adult Mortality = -0.442\n",
      "\t Alcohol     = 0.561\n",
      "\t Expenditure% = 0.402\n",
      "\t BMI         = 0.511\n",
      "\t HIV/AIDS    = -0.249\n",
      "\t GDP         = 0.447\n",
      "\t thinness1-19 = -0.454\n",
      "\t thinness5-9 = -0.438\n",
      "\t Schooling   = 0.785\n",
      "- - - - - - - - - - - - - - - - - - - - - - - - - - - - - - - - - - - - - - - - \n",
      "\n",
      "\n",
      "\u001b[1m Schooling \u001b[0m\n",
      "- - - - - - - - - - - - - - - - - - - - - - - - - - - - - - - - - - - - - - - - \n",
      "\t Status      = -0.513\n",
      "\t Adult Mortality = -0.421\n",
      "\t Alcohol     = 0.617\n",
      "\t Expenditure% = 0.422\n",
      "\t BMI         = 0.555\n",
      "\t HIV/AIDS    = -0.212\n",
      "\t GDP         = 0.468\n",
      "\t thinness1-19 = -0.491\n",
      "\t thinness5-9 = -0.472\n",
      "\t ICoR        = 0.785\n",
      "- - - - - - - - - - - - - - - - - - - - - - - - - - - - - - - - - - - - - - - - \n"
     ]
    }
   ],
   "source": [
    "# We might have some multicollinearity issues because of this,\n",
    "# lets take a closer look at the correlation amongst our individual features\n",
    "for column in df.columns:\n",
    "    print(\"\\n\\n\\033[1m\",column,\"\\033[0m\")\n",
    "    print(\"- \"*40)\n",
    "    for _column in df.columns:\n",
    "        if column != _column:\n",
    "            column_corr = np.corrcoef(df[column].values, df[_column].values)[0,1]\n",
    "            print(\"\\t\", format(_column,'11s'),\"=\", format(column_corr,'.3f'))\n",
    "    print(\"- \"*40)"
   ]
  },
  {
   "cell_type": "code",
   "execution_count": 850,
   "metadata": {},
   "outputs": [
    {
     "name": "stdout",
     "output_type": "stream",
     "text": [
      "- - - - - - - - - - - - - - - - - - - - - - - - - - - - - - - - - - - - - - - - \n",
      "Status          : 8.954\n",
      "Adult Mortality : 4.332\n",
      "Alcohol         : 4.920\n",
      "Expenditure%    : 14.695\n",
      "BMI             : 8.211\n",
      "HIV/AIDS        : 1.608\n",
      "GDP             : 16.660\n",
      "thinness1-19    : 15.334\n",
      "thinness5-9     : 15.647\n",
      "ICoR            : 36.170\n",
      "Schooling       : 48.491\n",
      "- - - - - - - - - - - - - - - - - - - - - - - - - - - - - - - - - - - - - - - - \n",
      "Adult Mortality : 3.454\n",
      "Alcohol         : 2.928\n",
      "Expenditure%    : 1.455\n",
      "BMI             : 3.129\n",
      "HIV/AIDS        : 1.573\n",
      "thinness1-19    : 1.965\n"
     ]
    }
   ],
   "source": [
    "# To again continue our multicollinearity investigation, lets calculate VIF\n",
    "\n",
    "# old df\n",
    "print(\"- \"*40)\n",
    "for i in range(len(df.columns)):\n",
    "    vif = stats.outliers_influence.variance_inflation_factor(df.values, i)\n",
    "    print(format(df.columns[i],'15s'), \":\", format(vif,'.3f'))\n",
    "    \n",
    "# remove features\n",
    "droplist= ['Schooling','thinness5-9','ICoR', 'GDP', 'Status']\n",
    "new_df = df.drop(droplist, axis=1)\n",
    "\n",
    "# new df\n",
    "print(\"- \"*40)\n",
    "for i in range(len(new_df.columns)):\n",
    "    vif = stats.outliers_influence.variance_inflation_factor(new_df.values, i)\n",
    "    print(format(new_df.columns[i],'15s'), \":\", format(vif,'.3f'))"
   ]
  },
  {
   "cell_type": "markdown",
   "metadata": {},
   "source": [
    "# Modeling\n",
    "We have now removed variables of two types:\n",
    "1. Independent variables with little correlation to our dependent variable\n",
    "2. Independent variables with strong signs of multicollinearity"
   ]
  },
  {
   "cell_type": "code",
   "execution_count": 851,
   "metadata": {},
   "outputs": [],
   "source": [
    "# split data into train vs test\n",
    "x_train, x_test, y_train, y_test = train_test_split(new_df.values, y, test_size=0.1, random_state=0)"
   ]
  },
  {
   "cell_type": "code",
   "execution_count": 853,
   "metadata": {},
   "outputs": [
    {
     "name": "stdout",
     "output_type": "stream",
     "text": [
      "Acc: 0.7329416832073725\n"
     ]
    }
   ],
   "source": [
    "# LR model\n",
    "# fit to train data\n",
    "# score on test\n",
    "model = LinearRegression()\n",
    "model.fit(x_train, y_train)\n",
    "print(\"Acc:\",model.score(x_test, y_test))"
   ]
  },
  {
   "cell_type": "markdown",
   "metadata": {},
   "source": [
    "# The Wrap Up\n",
    "For this set of data, the accuracy we received could possibly be higher. The reason for this low accuracy is our focus on multicollinearity. It seems that the features with the highest VIF's also have high correlation to our dependent variable. <br><br>This fun-with-statistics series is all about learning new skills and applying them <strong>correctly</strong>. We could get a higher accuracy by simply throwing our entire dataset into a linear regression model, but then what would we learn/gain? Hopefully in future notebooks we can explore how to mitigate this VIF/accuracy trade-off that I believe we have found. But for now, this is goodbye."
   ]
  },
  {
   "cell_type": "code",
   "execution_count": null,
   "metadata": {},
   "outputs": [],
   "source": []
  }
 ],
 "metadata": {
  "kernelspec": {
   "display_name": "Python 3",
   "language": "python",
   "name": "python3"
  },
  "language_info": {
   "codemirror_mode": {
    "name": "ipython",
    "version": 3
   },
   "file_extension": ".py",
   "mimetype": "text/x-python",
   "name": "python",
   "nbconvert_exporter": "python",
   "pygments_lexer": "ipython3",
   "version": "3.7.3"
  }
 },
 "nbformat": 4,
 "nbformat_minor": 2
}
